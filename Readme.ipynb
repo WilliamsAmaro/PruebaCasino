{
 "cells": [
  {
   "cell_type": "markdown",
   "metadata": {},
   "source": [
    "# **CASINO ONLINE**"
   ]
  },
  {
   "cell_type": "markdown",
   "metadata": {},
   "source": [
    "Este conjunto de datos contiene información que he obtenido de la conexión abierta del casino en línea. Este casino opera con artículos virtuales de juegos. En este proyecto, analizaremos diversos aspectos de las partidas, incluyendo la cantidad de jugadores, el dinero apostado, y las ganancias y pérdidas, para obtener una visión más clara del funcionamiento y rendimiento del casino\n",
    "<!--  -->\n",
    "_Puedes encontrar la fuente BD aqui: <a href =\"https://www.kaggle.com/datasets/andreylovyagin/online-unfair-casino?resource=download\">Link_"
   ]
  },
  {
   "cell_type": "markdown",
   "metadata": {
    "vscode": {
     "languageId": "plaintext"
    }
   },
   "source": [
    "### __Recursos__\n",
    "- Kagle\n",
    "- Python\n",
    "- MySQL\n",
    "- Power BI"
   ]
  },
  {
   "cell_type": "markdown",
   "metadata": {
    "vscode": {
     "languageId": "plaintext"
    }
   },
   "source": [
    "#### __Librerías__\n",
    "- Pandas\n",
    "- Matplotlib\n",
    "- Seaborn"
   ]
  },
  {
   "cell_type": "markdown",
   "metadata": {},
   "source": [
    "**PASOS**\n",
    "__1. Extracción y Limpieza:__ Se empleo python para visualizar la data, y así ver la naturaleza de cada variable (atributo). Se pudo identificar que cada fila corresponde a un juego, es decir se está trabajando con una tabla resumen. A partir de ello, se procede a visualizar distribución de las variables de interés:\n",
    "- __Distribución de Jugadores:__\n",
    "\n",
    "![Imagen](Dist_Jugadores.png)\n",
    "- __Distribución de items empleados por juego:__\n",
    "\n",
    "![Imagen](Dist_apuesta.png)\n",
    "- __Distribución de dinero apostado:__\n",
    "\n",
    "![Imagen](Dist_dinero.png)\n",
    "\n",
    "Con el fin de conocer el rango en el cual se mueven y definir métricas."
   ]
  },
  {
   "cell_type": "markdown",
   "metadata": {},
   "source": [
    "Se procedió a ingestar la base a MySQL para mantener la tabla y poder hacer consultas relacionadas al negocio.\n",
    "![Imagen](Ingesta.jpg)"
   ]
  },
  {
   "cell_type": "markdown",
   "metadata": {},
   "source": [
    "__2. Se procedió con las consultas.__"
   ]
  },
  {
   "cell_type": "markdown",
   "metadata": {},
   "source": [
    "__3. Creación de panel de control en Power BI__"
   ]
  },
  {
   "cell_type": "markdown",
   "metadata": {},
   "source": [
    "Se propuso un KPI: Ganancia por día mayor a 20,000 dólares.\n",
    "A partir del KPI propuesto se trabajó el panel de contro; obteniendo:\n",
    "- 16 Millones de dólares de ingreso al casino online (Money)\n",
    "- 15 Millones de dólares de egreso del casino online (Outpay)\n",
    "- 7 Millones de jugadores en el casino online\n",
    "- Ganancia media de 4.44 %, es decir el dinero retenido por cada dolar utilizado\n",
    "- De los 21 días con el cual se está trabajando solo el 9 días se pudo superar la meta de los 20K $\n",
    "- Se obtuvo los 5 juegos con mas ganancias; así como, los 5 juegos con más pérdidas para el casino.\n",
    "- La proporción de dinero a favor del casino (peopleLost) en comparación a dinero en contra del casino (peopleWin) es mayor en solo un 9%\n",
    "- Respecto al uso de los juegos en el casino, se encuentran picos a las 4 am, 8 am, 4 pm y 9 pm"
   ]
  },
  {
   "cell_type": "markdown",
   "metadata": {},
   "source": [
    "![Imagen](PANEL.jpg)"
   ]
  }
 ],
 "metadata": {
  "kernelspec": {
   "display_name": "Python 3",
   "language": "python",
   "name": "python3"
  },
  "language_info": {
   "name": "python",
   "version": "3.11.9"
  }
 },
 "nbformat": 4,
 "nbformat_minor": 2
}
